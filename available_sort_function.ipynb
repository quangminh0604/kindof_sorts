{
 "cells": [
  {
   "cell_type": "code",
   "execution_count": 2,
   "id": "4a9709d4-ead2-4699-ae19-8cec07ad60be",
   "metadata": {},
   "outputs": [],
   "source": [
    "%matplotlib inline\n",
    "import numpy as np\n",
    "import pandas as pd\n",
    "import scipy.stats as stats\n",
    "import matplotlib.pyplot as plt\n",
    "import random\n",
    "import math\n",
    "import time\n",
    "from scipy.stats import norm"
   ]
  },
  {
   "cell_type": "code",
   "execution_count": 3,
   "id": "48d9b08e-ed6f-4cb8-a0ad-f23573c1e831",
   "metadata": {},
   "outputs": [],
   "source": [
    "a = np.loadtxt(r\"C:\\Users\\LENOVO\\Documents\\Code block project\\my_data\\test 1.txt\", dtype = float)"
   ]
  },
  {
   "cell_type": "code",
   "execution_count": 4,
   "id": "266d6889-7ddf-4119-843a-66741656602a",
   "metadata": {},
   "outputs": [
    {
     "name": "stdout",
     "output_type": "stream",
     "text": [
      "0.016539573669433594\n"
     ]
    }
   ],
   "source": [
    "start = time.time()\n",
    "np.sort(a)\n",
    "end = time.time()\n",
    "print(end-start)"
   ]
  },
  {
   "cell_type": "code",
   "execution_count": null,
   "id": "b6ea3b46-a4cb-43a1-adf0-01853d11e49d",
   "metadata": {},
   "outputs": [],
   "source": []
  },
  {
   "cell_type": "code",
   "execution_count": null,
   "id": "80c16bfd-bcd4-4373-8b68-e2f086eee33c",
   "metadata": {},
   "outputs": [],
   "source": []
  }
 ],
 "metadata": {
  "kernelspec": {
   "display_name": "Python 3 (ipykernel)",
   "language": "python",
   "name": "python3"
  },
  "language_info": {
   "codemirror_mode": {
    "name": "ipython",
    "version": 3
   },
   "file_extension": ".py",
   "mimetype": "text/x-python",
   "name": "python",
   "nbconvert_exporter": "python",
   "pygments_lexer": "ipython3",
   "version": "3.11.7"
  }
 },
 "nbformat": 4,
 "nbformat_minor": 5
}
